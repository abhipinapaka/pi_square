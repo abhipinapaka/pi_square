{
 "cells": [
  {
   "cell_type": "markdown",
   "metadata": {},
   "source": [
    "# \n",
    "The mathematical constant Pi is an irrational number with value approximately 3.1415928... The precise value of this constant can be obtained from the following inﬁnite sum:\n",
    "\n",
    "Pi^2 = 8 + 8/3^2 + 8/5^2 + 8/7^2 + 8/9^2 + ...\n",
    "\n",
    "(Pi is of course just the square root of this value.) \n",
    "\n",
    "Although we cannot compute the entire inﬁnite series, we get a good approximation of the value of Pi^2 by computing the beginning of such a sum. \n",
    "Write a function approxPIsquared() that takes as input float error and approximates constant Pi^2 to within error by computing the above sum, term by term, until the difference between the new and the previous sum is less than error. The function should return the new sum. \n",
    "\n",
    ">>> approxPIsquared(0.0001)\n",
    "9.855519952254232\n",
    ">>> approxPIsquared(0.00000001)\n",
    "9.869462988376474\n"
   ]
  },
  {
   "cell_type": "code",
   "execution_count": null,
   "metadata": {
    "collapsed": true
   },
   "outputs": [],
   "source": []
  },
  {
   "cell_type": "code",
   "execution_count": 77,
   "metadata": {},
   "outputs": [
    {
     "name": "stdout",
     "output_type": "stream",
     "text": [
      "9.855519952254232\n",
      "9.869462988376474\n"
     ]
    }
   ],
   "source": [
    "from decimal import Decimal as D\n",
    "def pisqrfn(n):\n",
    "    sigma = 0\n",
    "    term = 1\n",
    "    for i in range (1, n+1):\n",
    "        sigma+=term\n",
    "        term = 1/((1+2*i)**2)\n",
    "    return sigma*8\n",
    "\n",
    "def approxPIsquared(e):\n",
    "    n=0\n",
    "    while (pisqrfn(n+1)-pisqrfn(n)>D(float(e))):\n",
    "        n+=1\n",
    "    return pisqrfn(n+1)\n",
    "\n",
    "print(approxPIsquared(0.0001))\n",
    "print(approxPIsquared(0.00000001))"
   ]
  }
 ],
 "metadata": {
  "kernelspec": {
   "display_name": "Python 3",
   "language": "python",
   "name": "python3"
  },
  "language_info": {
   "codemirror_mode": {
    "name": "ipython",
    "version": 3
   },
   "file_extension": ".py",
   "mimetype": "text/x-python",
   "name": "python",
   "nbconvert_exporter": "python",
   "pygments_lexer": "ipython3",
   "version": "3.6.1"
  }
 },
 "nbformat": 4,
 "nbformat_minor": 2
}
